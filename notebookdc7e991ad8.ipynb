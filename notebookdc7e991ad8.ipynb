{
 "cells": [
  {
   "cell_type": "code",
   "execution_count": 1,
   "id": "72f2c405",
   "metadata": {
    "_cell_guid": "b1076dfc-b9ad-4769-8c92-a6c4dae69d19",
    "_uuid": "8f2839f25d086af736a60e9eeb907d3b93b6e0e5",
    "execution": {
     "iopub.execute_input": "2023-05-03T05:38:49.797446Z",
     "iopub.status.busy": "2023-05-03T05:38:49.797027Z",
     "iopub.status.idle": "2023-05-03T05:38:49.812752Z",
     "shell.execute_reply": "2023-05-03T05:38:49.811972Z"
    },
    "papermill": {
     "duration": 0.024577,
     "end_time": "2023-05-03T05:38:49.815359",
     "exception": false,
     "start_time": "2023-05-03T05:38:49.790782",
     "status": "completed"
    },
    "tags": []
   },
   "outputs": [
    {
     "name": "stdout",
     "output_type": "stream",
     "text": [
      "/kaggle/input/house-price-dataset-of-india/House Price India.csv\n"
     ]
    }
   ],
   "source": [
    "# This Python 3 environment comes with many helpful analytics libraries installed\n",
    "# It is defined by the kaggle/python Docker image: https://github.com/kaggle/docker-python\n",
    "# For example, here's several helpful packages to load\n",
    "\n",
    "import numpy as np # linear algebra\n",
    "import pandas as pd # data processing, CSV file I/O (e.g. pd.read_csv)\n",
    "\n",
    "# Input data files are available in the read-only \"../input/\" directory\n",
    "# For example, running this (by clicking run or pressing Shift+Enter) will list all files under the input directory\n",
    "\n",
    "import os\n",
    "for dirname, _, filenames in os.walk('/kaggle/input'):\n",
    "    for filename in filenames:\n",
    "        print(os.path.join(dirname, filename))\n",
    "\n",
    "# You can write up to 20GB to the current directory (/kaggle/working/) that gets preserved as output when you create a version using \"Save & Run All\" \n",
    "# You can also write temporary files to /kaggle/temp/, but they won't be saved outside of the current session"
   ]
  },
  {
   "cell_type": "code",
   "execution_count": 2,
   "id": "0cf321bd",
   "metadata": {
    "execution": {
     "iopub.execute_input": "2023-05-03T05:38:49.825158Z",
     "iopub.status.busy": "2023-05-03T05:38:49.824741Z",
     "iopub.status.idle": "2023-05-03T05:38:51.181984Z",
     "shell.execute_reply": "2023-05-03T05:38:51.180254Z"
    },
    "papermill": {
     "duration": 1.365846,
     "end_time": "2023-05-03T05:38:51.185410",
     "exception": false,
     "start_time": "2023-05-03T05:38:49.819564",
     "status": "completed"
    },
    "tags": []
   },
   "outputs": [
    {
     "name": "stderr",
     "output_type": "stream",
     "text": [
      "/opt/conda/lib/python3.10/site-packages/scipy/__init__.py:146: UserWarning: A NumPy version >=1.16.5 and <1.23.0 is required for this version of SciPy (detected version 1.23.5\n",
      "  warnings.warn(f\"A NumPy version >={np_minversion} and <{np_maxversion}\"\n"
     ]
    }
   ],
   "source": [
    "import pandas as pd\n",
    "import numpy as np\n",
    "import matplotlib.pyplot as plt\n",
    "import seaborn as sns"
   ]
  },
  {
   "cell_type": "code",
   "execution_count": 3,
   "id": "bfcad64c",
   "metadata": {
    "execution": {
     "iopub.execute_input": "2023-05-03T05:38:51.197020Z",
     "iopub.status.busy": "2023-05-03T05:38:51.196574Z",
     "iopub.status.idle": "2023-05-03T05:38:51.319636Z",
     "shell.execute_reply": "2023-05-03T05:38:51.317878Z"
    },
    "papermill": {
     "duration": 0.132396,
     "end_time": "2023-05-03T05:38:51.322136",
     "exception": false,
     "start_time": "2023-05-03T05:38:51.189740",
     "status": "completed"
    },
    "tags": []
   },
   "outputs": [
    {
     "data": {
      "text/html": [
       "<div>\n",
       "<style scoped>\n",
       "    .dataframe tbody tr th:only-of-type {\n",
       "        vertical-align: middle;\n",
       "    }\n",
       "\n",
       "    .dataframe tbody tr th {\n",
       "        vertical-align: top;\n",
       "    }\n",
       "\n",
       "    .dataframe thead th {\n",
       "        text-align: right;\n",
       "    }\n",
       "</style>\n",
       "<table border=\"1\" class=\"dataframe\">\n",
       "  <thead>\n",
       "    <tr style=\"text-align: right;\">\n",
       "      <th></th>\n",
       "      <th>id</th>\n",
       "      <th>Date</th>\n",
       "      <th>number of bedrooms</th>\n",
       "      <th>number of bathrooms</th>\n",
       "      <th>living area</th>\n",
       "      <th>lot area</th>\n",
       "      <th>number of floors</th>\n",
       "      <th>waterfront present</th>\n",
       "      <th>number of views</th>\n",
       "      <th>condition of the house</th>\n",
       "      <th>...</th>\n",
       "      <th>Built Year</th>\n",
       "      <th>Renovation Year</th>\n",
       "      <th>Postal Code</th>\n",
       "      <th>Lattitude</th>\n",
       "      <th>Longitude</th>\n",
       "      <th>living_area_renov</th>\n",
       "      <th>lot_area_renov</th>\n",
       "      <th>Number of schools nearby</th>\n",
       "      <th>Distance from the airport</th>\n",
       "      <th>Price</th>\n",
       "    </tr>\n",
       "  </thead>\n",
       "  <tbody>\n",
       "    <tr>\n",
       "      <th>0</th>\n",
       "      <td>6762810145</td>\n",
       "      <td>42491</td>\n",
       "      <td>5</td>\n",
       "      <td>2.50</td>\n",
       "      <td>3650</td>\n",
       "      <td>9050</td>\n",
       "      <td>2.0</td>\n",
       "      <td>0</td>\n",
       "      <td>4</td>\n",
       "      <td>5</td>\n",
       "      <td>...</td>\n",
       "      <td>1921</td>\n",
       "      <td>0</td>\n",
       "      <td>122003</td>\n",
       "      <td>52.8645</td>\n",
       "      <td>-114.557</td>\n",
       "      <td>2880</td>\n",
       "      <td>5400</td>\n",
       "      <td>2</td>\n",
       "      <td>58</td>\n",
       "      <td>2380000</td>\n",
       "    </tr>\n",
       "    <tr>\n",
       "      <th>1</th>\n",
       "      <td>6762810635</td>\n",
       "      <td>42491</td>\n",
       "      <td>4</td>\n",
       "      <td>2.50</td>\n",
       "      <td>2920</td>\n",
       "      <td>4000</td>\n",
       "      <td>1.5</td>\n",
       "      <td>0</td>\n",
       "      <td>0</td>\n",
       "      <td>5</td>\n",
       "      <td>...</td>\n",
       "      <td>1909</td>\n",
       "      <td>0</td>\n",
       "      <td>122004</td>\n",
       "      <td>52.8878</td>\n",
       "      <td>-114.470</td>\n",
       "      <td>2470</td>\n",
       "      <td>4000</td>\n",
       "      <td>2</td>\n",
       "      <td>51</td>\n",
       "      <td>1400000</td>\n",
       "    </tr>\n",
       "    <tr>\n",
       "      <th>2</th>\n",
       "      <td>6762810998</td>\n",
       "      <td>42491</td>\n",
       "      <td>5</td>\n",
       "      <td>2.75</td>\n",
       "      <td>2910</td>\n",
       "      <td>9480</td>\n",
       "      <td>1.5</td>\n",
       "      <td>0</td>\n",
       "      <td>0</td>\n",
       "      <td>3</td>\n",
       "      <td>...</td>\n",
       "      <td>1939</td>\n",
       "      <td>0</td>\n",
       "      <td>122004</td>\n",
       "      <td>52.8852</td>\n",
       "      <td>-114.468</td>\n",
       "      <td>2940</td>\n",
       "      <td>6600</td>\n",
       "      <td>1</td>\n",
       "      <td>53</td>\n",
       "      <td>1200000</td>\n",
       "    </tr>\n",
       "    <tr>\n",
       "      <th>3</th>\n",
       "      <td>6762812605</td>\n",
       "      <td>42491</td>\n",
       "      <td>4</td>\n",
       "      <td>2.50</td>\n",
       "      <td>3310</td>\n",
       "      <td>42998</td>\n",
       "      <td>2.0</td>\n",
       "      <td>0</td>\n",
       "      <td>0</td>\n",
       "      <td>3</td>\n",
       "      <td>...</td>\n",
       "      <td>2001</td>\n",
       "      <td>0</td>\n",
       "      <td>122005</td>\n",
       "      <td>52.9532</td>\n",
       "      <td>-114.321</td>\n",
       "      <td>3350</td>\n",
       "      <td>42847</td>\n",
       "      <td>3</td>\n",
       "      <td>76</td>\n",
       "      <td>838000</td>\n",
       "    </tr>\n",
       "    <tr>\n",
       "      <th>4</th>\n",
       "      <td>6762812919</td>\n",
       "      <td>42491</td>\n",
       "      <td>3</td>\n",
       "      <td>2.00</td>\n",
       "      <td>2710</td>\n",
       "      <td>4500</td>\n",
       "      <td>1.5</td>\n",
       "      <td>0</td>\n",
       "      <td>0</td>\n",
       "      <td>4</td>\n",
       "      <td>...</td>\n",
       "      <td>1929</td>\n",
       "      <td>0</td>\n",
       "      <td>122006</td>\n",
       "      <td>52.9047</td>\n",
       "      <td>-114.485</td>\n",
       "      <td>2060</td>\n",
       "      <td>4500</td>\n",
       "      <td>1</td>\n",
       "      <td>51</td>\n",
       "      <td>805000</td>\n",
       "    </tr>\n",
       "  </tbody>\n",
       "</table>\n",
       "<p>5 rows × 23 columns</p>\n",
       "</div>"
      ],
      "text/plain": [
       "           id   Date  number of bedrooms  number of bathrooms  living area  \\\n",
       "0  6762810145  42491                   5                 2.50         3650   \n",
       "1  6762810635  42491                   4                 2.50         2920   \n",
       "2  6762810998  42491                   5                 2.75         2910   \n",
       "3  6762812605  42491                   4                 2.50         3310   \n",
       "4  6762812919  42491                   3                 2.00         2710   \n",
       "\n",
       "   lot area  number of floors  waterfront present  number of views  \\\n",
       "0      9050               2.0                   0                4   \n",
       "1      4000               1.5                   0                0   \n",
       "2      9480               1.5                   0                0   \n",
       "3     42998               2.0                   0                0   \n",
       "4      4500               1.5                   0                0   \n",
       "\n",
       "   condition of the house  ...  Built Year  Renovation Year  Postal Code  \\\n",
       "0                       5  ...        1921                0       122003   \n",
       "1                       5  ...        1909                0       122004   \n",
       "2                       3  ...        1939                0       122004   \n",
       "3                       3  ...        2001                0       122005   \n",
       "4                       4  ...        1929                0       122006   \n",
       "\n",
       "   Lattitude  Longitude  living_area_renov  lot_area_renov  \\\n",
       "0    52.8645   -114.557               2880            5400   \n",
       "1    52.8878   -114.470               2470            4000   \n",
       "2    52.8852   -114.468               2940            6600   \n",
       "3    52.9532   -114.321               3350           42847   \n",
       "4    52.9047   -114.485               2060            4500   \n",
       "\n",
       "   Number of schools nearby  Distance from the airport    Price  \n",
       "0                         2                         58  2380000  \n",
       "1                         2                         51  1400000  \n",
       "2                         1                         53  1200000  \n",
       "3                         3                         76   838000  \n",
       "4                         1                         51   805000  \n",
       "\n",
       "[5 rows x 23 columns]"
      ]
     },
     "execution_count": 3,
     "metadata": {},
     "output_type": "execute_result"
    }
   ],
   "source": [
    "data= pd.read_csv('/kaggle/input/house-price-dataset-of-india/House Price India.csv')\n",
    "data.head(5)"
   ]
  },
  {
   "cell_type": "code",
   "execution_count": 4,
   "id": "ea78795e",
   "metadata": {
    "execution": {
     "iopub.execute_input": "2023-05-03T05:38:51.333507Z",
     "iopub.status.busy": "2023-05-03T05:38:51.333112Z",
     "iopub.status.idle": "2023-05-03T05:38:51.340011Z",
     "shell.execute_reply": "2023-05-03T05:38:51.338818Z"
    },
    "papermill": {
     "duration": 0.015755,
     "end_time": "2023-05-03T05:38:51.342458",
     "exception": false,
     "start_time": "2023-05-03T05:38:51.326703",
     "status": "completed"
    },
    "tags": []
   },
   "outputs": [
    {
     "data": {
      "text/plain": [
       "Index(['id', 'Date', 'number of bedrooms', 'number of bathrooms',\n",
       "       'living area', 'lot area', 'number of floors', 'waterfront present',\n",
       "       'number of views', 'condition of the house', 'grade of the house',\n",
       "       'Area of the house(excluding basement)', 'Area of the basement',\n",
       "       'Built Year', 'Renovation Year', 'Postal Code', 'Lattitude',\n",
       "       'Longitude', 'living_area_renov', 'lot_area_renov',\n",
       "       'Number of schools nearby', 'Distance from the airport', 'Price'],\n",
       "      dtype='object')"
      ]
     },
     "execution_count": 4,
     "metadata": {},
     "output_type": "execute_result"
    }
   ],
   "source": [
    "data.columns"
   ]
  },
  {
   "cell_type": "code",
   "execution_count": 5,
   "id": "92cd34b9",
   "metadata": {
    "execution": {
     "iopub.execute_input": "2023-05-03T05:38:51.355672Z",
     "iopub.status.busy": "2023-05-03T05:38:51.355162Z",
     "iopub.status.idle": "2023-05-03T05:38:51.363808Z",
     "shell.execute_reply": "2023-05-03T05:38:51.362306Z"
    },
    "papermill": {
     "duration": 0.018217,
     "end_time": "2023-05-03T05:38:51.366259",
     "exception": false,
     "start_time": "2023-05-03T05:38:51.348042",
     "status": "completed"
    },
    "tags": []
   },
   "outputs": [
    {
     "data": {
      "text/plain": [
       "(14620, 23)"
      ]
     },
     "execution_count": 5,
     "metadata": {},
     "output_type": "execute_result"
    }
   ],
   "source": [
    "data.shape"
   ]
  },
  {
   "cell_type": "code",
   "execution_count": 6,
   "id": "2c92fbaa",
   "metadata": {
    "execution": {
     "iopub.execute_input": "2023-05-03T05:38:51.377855Z",
     "iopub.status.busy": "2023-05-03T05:38:51.377447Z",
     "iopub.status.idle": "2023-05-03T05:38:51.395270Z",
     "shell.execute_reply": "2023-05-03T05:38:51.394082Z"
    },
    "papermill": {
     "duration": 0.026681,
     "end_time": "2023-05-03T05:38:51.397757",
     "exception": false,
     "start_time": "2023-05-03T05:38:51.371076",
     "status": "completed"
    },
    "tags": []
   },
   "outputs": [
    {
     "data": {
      "text/html": [
       "<div>\n",
       "<style scoped>\n",
       "    .dataframe tbody tr th:only-of-type {\n",
       "        vertical-align: middle;\n",
       "    }\n",
       "\n",
       "    .dataframe tbody tr th {\n",
       "        vertical-align: top;\n",
       "    }\n",
       "\n",
       "    .dataframe thead th {\n",
       "        text-align: right;\n",
       "    }\n",
       "</style>\n",
       "<table border=\"1\" class=\"dataframe\">\n",
       "  <thead>\n",
       "    <tr style=\"text-align: right;\">\n",
       "      <th></th>\n",
       "      <th>id</th>\n",
       "      <th>number of bedrooms</th>\n",
       "      <th>number of bathrooms</th>\n",
       "      <th>condition of the house</th>\n",
       "      <th>Area of the house(excluding basement)</th>\n",
       "      <th>Postal Code</th>\n",
       "      <th>Number of schools nearby</th>\n",
       "      <th>Price</th>\n",
       "    </tr>\n",
       "  </thead>\n",
       "  <tbody>\n",
       "    <tr>\n",
       "      <th>0</th>\n",
       "      <td>6762810145</td>\n",
       "      <td>5</td>\n",
       "      <td>2.50</td>\n",
       "      <td>5</td>\n",
       "      <td>3370</td>\n",
       "      <td>122003</td>\n",
       "      <td>2</td>\n",
       "      <td>2380000</td>\n",
       "    </tr>\n",
       "    <tr>\n",
       "      <th>1</th>\n",
       "      <td>6762810635</td>\n",
       "      <td>4</td>\n",
       "      <td>2.50</td>\n",
       "      <td>5</td>\n",
       "      <td>1910</td>\n",
       "      <td>122004</td>\n",
       "      <td>2</td>\n",
       "      <td>1400000</td>\n",
       "    </tr>\n",
       "    <tr>\n",
       "      <th>2</th>\n",
       "      <td>6762810998</td>\n",
       "      <td>5</td>\n",
       "      <td>2.75</td>\n",
       "      <td>3</td>\n",
       "      <td>2910</td>\n",
       "      <td>122004</td>\n",
       "      <td>1</td>\n",
       "      <td>1200000</td>\n",
       "    </tr>\n",
       "    <tr>\n",
       "      <th>3</th>\n",
       "      <td>6762812605</td>\n",
       "      <td>4</td>\n",
       "      <td>2.50</td>\n",
       "      <td>3</td>\n",
       "      <td>3310</td>\n",
       "      <td>122005</td>\n",
       "      <td>3</td>\n",
       "      <td>838000</td>\n",
       "    </tr>\n",
       "    <tr>\n",
       "      <th>4</th>\n",
       "      <td>6762812919</td>\n",
       "      <td>3</td>\n",
       "      <td>2.00</td>\n",
       "      <td>4</td>\n",
       "      <td>1880</td>\n",
       "      <td>122006</td>\n",
       "      <td>1</td>\n",
       "      <td>805000</td>\n",
       "    </tr>\n",
       "  </tbody>\n",
       "</table>\n",
       "</div>"
      ],
      "text/plain": [
       "           id  number of bedrooms  number of bathrooms  \\\n",
       "0  6762810145                   5                 2.50   \n",
       "1  6762810635                   4                 2.50   \n",
       "2  6762810998                   5                 2.75   \n",
       "3  6762812605                   4                 2.50   \n",
       "4  6762812919                   3                 2.00   \n",
       "\n",
       "   condition of the house  Area of the house(excluding basement)  Postal Code  \\\n",
       "0                       5                                   3370       122003   \n",
       "1                       5                                   1910       122004   \n",
       "2                       3                                   2910       122004   \n",
       "3                       3                                   3310       122005   \n",
       "4                       4                                   1880       122006   \n",
       "\n",
       "   Number of schools nearby    Price  \n",
       "0                         2  2380000  \n",
       "1                         2  1400000  \n",
       "2                         1  1200000  \n",
       "3                         3   838000  \n",
       "4                         1   805000  "
      ]
     },
     "execution_count": 6,
     "metadata": {},
     "output_type": "execute_result"
    }
   ],
   "source": [
    "data= data.drop(['Date',  \n",
    "       'living area', 'lot area', 'number of floors', 'waterfront present',\n",
    "       'number of views', 'grade of the house',\n",
    "       'Area of the basement','Built Year', 'Renovation Year', 'Lattitude',\n",
    "       'Longitude', 'living_area_renov', 'lot_area_renov','Distance from the airport'], axis=1)\n",
    "data.head()"
   ]
  },
  {
   "cell_type": "code",
   "execution_count": 7,
   "id": "dbbff27b",
   "metadata": {
    "execution": {
     "iopub.execute_input": "2023-05-03T05:38:51.410045Z",
     "iopub.status.busy": "2023-05-03T05:38:51.409625Z",
     "iopub.status.idle": "2023-05-03T05:38:51.454716Z",
     "shell.execute_reply": "2023-05-03T05:38:51.453364Z"
    },
    "papermill": {
     "duration": 0.054473,
     "end_time": "2023-05-03T05:38:51.457255",
     "exception": false,
     "start_time": "2023-05-03T05:38:51.402782",
     "status": "completed"
    },
    "tags": []
   },
   "outputs": [
    {
     "data": {
      "text/html": [
       "<div>\n",
       "<style scoped>\n",
       "    .dataframe tbody tr th:only-of-type {\n",
       "        vertical-align: middle;\n",
       "    }\n",
       "\n",
       "    .dataframe tbody tr th {\n",
       "        vertical-align: top;\n",
       "    }\n",
       "\n",
       "    .dataframe thead th {\n",
       "        text-align: right;\n",
       "    }\n",
       "</style>\n",
       "<table border=\"1\" class=\"dataframe\">\n",
       "  <thead>\n",
       "    <tr style=\"text-align: right;\">\n",
       "      <th></th>\n",
       "      <th>id</th>\n",
       "      <th>number of bedrooms</th>\n",
       "      <th>number of bathrooms</th>\n",
       "      <th>condition of the house</th>\n",
       "      <th>Area of the house(excluding basement)</th>\n",
       "      <th>Postal Code</th>\n",
       "      <th>Number of schools nearby</th>\n",
       "      <th>Price</th>\n",
       "    </tr>\n",
       "  </thead>\n",
       "  <tbody>\n",
       "    <tr>\n",
       "      <th>count</th>\n",
       "      <td>1.462000e+04</td>\n",
       "      <td>14620.000000</td>\n",
       "      <td>14620.000000</td>\n",
       "      <td>14620.000000</td>\n",
       "      <td>14620.000000</td>\n",
       "      <td>14620.000000</td>\n",
       "      <td>14620.000000</td>\n",
       "      <td>1.462000e+04</td>\n",
       "    </tr>\n",
       "    <tr>\n",
       "      <th>mean</th>\n",
       "      <td>6.762821e+09</td>\n",
       "      <td>3.379343</td>\n",
       "      <td>2.129583</td>\n",
       "      <td>3.430506</td>\n",
       "      <td>1801.783926</td>\n",
       "      <td>122033.062244</td>\n",
       "      <td>2.012244</td>\n",
       "      <td>5.389322e+05</td>\n",
       "    </tr>\n",
       "    <tr>\n",
       "      <th>std</th>\n",
       "      <td>6.237575e+03</td>\n",
       "      <td>0.938719</td>\n",
       "      <td>0.769934</td>\n",
       "      <td>0.664151</td>\n",
       "      <td>833.809963</td>\n",
       "      <td>19.082418</td>\n",
       "      <td>0.817284</td>\n",
       "      <td>3.675324e+05</td>\n",
       "    </tr>\n",
       "    <tr>\n",
       "      <th>min</th>\n",
       "      <td>6.762810e+09</td>\n",
       "      <td>1.000000</td>\n",
       "      <td>0.500000</td>\n",
       "      <td>1.000000</td>\n",
       "      <td>370.000000</td>\n",
       "      <td>122003.000000</td>\n",
       "      <td>1.000000</td>\n",
       "      <td>7.800000e+04</td>\n",
       "    </tr>\n",
       "    <tr>\n",
       "      <th>25%</th>\n",
       "      <td>6.762815e+09</td>\n",
       "      <td>3.000000</td>\n",
       "      <td>1.750000</td>\n",
       "      <td>3.000000</td>\n",
       "      <td>1200.000000</td>\n",
       "      <td>122017.000000</td>\n",
       "      <td>1.000000</td>\n",
       "      <td>3.200000e+05</td>\n",
       "    </tr>\n",
       "    <tr>\n",
       "      <th>50%</th>\n",
       "      <td>6.762821e+09</td>\n",
       "      <td>3.000000</td>\n",
       "      <td>2.250000</td>\n",
       "      <td>3.000000</td>\n",
       "      <td>1580.000000</td>\n",
       "      <td>122032.000000</td>\n",
       "      <td>2.000000</td>\n",
       "      <td>4.500000e+05</td>\n",
       "    </tr>\n",
       "    <tr>\n",
       "      <th>75%</th>\n",
       "      <td>6.762826e+09</td>\n",
       "      <td>4.000000</td>\n",
       "      <td>2.500000</td>\n",
       "      <td>4.000000</td>\n",
       "      <td>2240.000000</td>\n",
       "      <td>122048.000000</td>\n",
       "      <td>3.000000</td>\n",
       "      <td>6.450000e+05</td>\n",
       "    </tr>\n",
       "    <tr>\n",
       "      <th>max</th>\n",
       "      <td>6.762832e+09</td>\n",
       "      <td>33.000000</td>\n",
       "      <td>8.000000</td>\n",
       "      <td>5.000000</td>\n",
       "      <td>9410.000000</td>\n",
       "      <td>122072.000000</td>\n",
       "      <td>3.000000</td>\n",
       "      <td>7.700000e+06</td>\n",
       "    </tr>\n",
       "  </tbody>\n",
       "</table>\n",
       "</div>"
      ],
      "text/plain": [
       "                 id  number of bedrooms  number of bathrooms  \\\n",
       "count  1.462000e+04        14620.000000         14620.000000   \n",
       "mean   6.762821e+09            3.379343             2.129583   \n",
       "std    6.237575e+03            0.938719             0.769934   \n",
       "min    6.762810e+09            1.000000             0.500000   \n",
       "25%    6.762815e+09            3.000000             1.750000   \n",
       "50%    6.762821e+09            3.000000             2.250000   \n",
       "75%    6.762826e+09            4.000000             2.500000   \n",
       "max    6.762832e+09           33.000000             8.000000   \n",
       "\n",
       "       condition of the house  Area of the house(excluding basement)  \\\n",
       "count            14620.000000                           14620.000000   \n",
       "mean                 3.430506                            1801.783926   \n",
       "std                  0.664151                             833.809963   \n",
       "min                  1.000000                             370.000000   \n",
       "25%                  3.000000                            1200.000000   \n",
       "50%                  3.000000                            1580.000000   \n",
       "75%                  4.000000                            2240.000000   \n",
       "max                  5.000000                            9410.000000   \n",
       "\n",
       "         Postal Code  Number of schools nearby         Price  \n",
       "count   14620.000000              14620.000000  1.462000e+04  \n",
       "mean   122033.062244                  2.012244  5.389322e+05  \n",
       "std        19.082418                  0.817284  3.675324e+05  \n",
       "min    122003.000000                  1.000000  7.800000e+04  \n",
       "25%    122017.000000                  1.000000  3.200000e+05  \n",
       "50%    122032.000000                  2.000000  4.500000e+05  \n",
       "75%    122048.000000                  3.000000  6.450000e+05  \n",
       "max    122072.000000                  3.000000  7.700000e+06  "
      ]
     },
     "execution_count": 7,
     "metadata": {},
     "output_type": "execute_result"
    }
   ],
   "source": [
    "data.describe()"
   ]
  },
  {
   "cell_type": "code",
   "execution_count": 8,
   "id": "c7506fcb",
   "metadata": {
    "execution": {
     "iopub.execute_input": "2023-05-03T05:38:51.472967Z",
     "iopub.status.busy": "2023-05-03T05:38:51.471962Z",
     "iopub.status.idle": "2023-05-03T05:38:51.774267Z",
     "shell.execute_reply": "2023-05-03T05:38:51.772395Z"
    },
    "papermill": {
     "duration": 0.314423,
     "end_time": "2023-05-03T05:38:51.777122",
     "exception": false,
     "start_time": "2023-05-03T05:38:51.462699",
     "status": "completed"
    },
    "tags": []
   },
   "outputs": [
    {
     "data": {
      "text/plain": [
       "(array([1.2916e+04, 1.4260e+03, 1.9100e+02, 6.0000e+01, 1.9000e+01,\n",
       "        2.0000e+00, 2.0000e+00, 1.0000e+00, 1.0000e+00, 2.0000e+00]),\n",
       " array([  78000.,  840200., 1602400., 2364600., 3126800., 3889000.,\n",
       "        4651200., 5413400., 6175600., 6937800., 7700000.]),\n",
       " <BarContainer object of 10 artists>)"
      ]
     },
     "execution_count": 8,
     "metadata": {},
     "output_type": "execute_result"
    },
    {
     "data": {
      "image/png": "[encoded data removed]",
      "text/plain": [
       "<Figure size 640x480 with 1 Axes>"
      ]
     },
     "metadata": {},
     "output_type": "display_data"
    }
   ],
   "source": [
    "plt.hist(data['Price'])"
   ]
  },
  {
   "cell_type": "code",
   "execution_count": 9,
   "id": "1b588373",
   "metadata": {
    "execution": {
     "iopub.execute_input": "2023-05-03T05:38:51.791375Z",
     "iopub.status.busy": "2023-05-03T05:38:51.790691Z",
     "iopub.status.idle": "2023-05-03T05:38:52.120733Z",
     "shell.execute_reply": "2023-05-03T05:38:52.119830Z"
    },
    "papermill": {
     "duration": 0.339968,
     "end_time": "2023-05-03T05:38:52.123049",
     "exception": false,
     "start_time": "2023-05-03T05:38:51.783081",
     "status": "completed"
    },
    "tags": []
   },
   "outputs": [
    {
     "data": {
      "text/plain": [
       "<matplotlib.collections.PathCollection at 0x78e5965c44c0>"
      ]
     },
     "execution_count": 9,
     "metadata": {},
     "output_type": "execute_result"
    },
    {
     "data": {
      "image/png": "[encoded data removed]",
      "text/plain": [
       "<Figure size 640x480 with 1 Axes>"
      ]
     },
     "metadata": {},
     "output_type": "display_data"
    }
   ],
   "source": [
    "plt.scatter(data['number of bedrooms'], data['number of bathrooms'])"
   ]
  },
  {
   "cell_type": "code",
   "execution_count": 10,
   "id": "2a28d4bd",
   "metadata": {
    "execution": {
     "iopub.execute_input": "2023-05-03T05:38:52.137002Z",
     "iopub.status.busy": "2023-05-03T05:38:52.136589Z",
     "iopub.status.idle": "2023-05-03T05:38:52.392590Z",
     "shell.execute_reply": "2023-05-03T05:38:52.391384Z"
    },
    "papermill": {
     "duration": 0.265894,
     "end_time": "2023-05-03T05:38:52.395099",
     "exception": false,
     "start_time": "2023-05-03T05:38:52.129205",
     "status": "completed"
    },
    "tags": []
   },
   "outputs": [
    {
     "data": {
      "text/plain": [
       "(array([  18.,    0.,  100.,    0.,    0., 9350.,    0., 3874.,    0.,\n",
       "        1278.]),\n",
       " array([1. , 1.4, 1.8, 2.2, 2.6, 3. , 3.4, 3.8, 4.2, 4.6, 5. ]),\n",
       " <BarContainer object of 10 artists>)"
      ]
     },
     "execution_count": 10,
     "metadata": {},
     "output_type": "execute_result"
    },
    {
     "data": {
      "image/png": "[encoded data removed]",
      "text/plain": [
       "<Figure size 640x480 with 1 Axes>"
      ]
     },
     "metadata": {},
     "output_type": "display_data"
    }
   ],
   "source": [
    "plt.hist(data['condition of the house'])"
   ]
  },
  {
   "cell_type": "code",
   "execution_count": 11,
   "id": "3baa40ef",
   "metadata": {
    "execution": {
     "iopub.execute_input": "2023-05-03T05:38:52.410496Z",
     "iopub.status.busy": "2023-05-03T05:38:52.410120Z",
     "iopub.status.idle": "2023-05-03T05:38:52.422019Z",
     "shell.execute_reply": "2023-05-03T05:38:52.421182Z"
    },
    "papermill": {
     "duration": 0.022467,
     "end_time": "2023-05-03T05:38:52.424274",
     "exception": false,
     "start_time": "2023-05-03T05:38:52.401807",
     "status": "completed"
    },
    "tags": []
   },
   "outputs": [
    {
     "data": {
      "text/plain": [
       "450000    114\n",
       "350000    113\n",
       "400000    104\n",
       "375000    103\n",
       "550000    102\n",
       "         ... \n",
       "561600      1\n",
       "856500      1\n",
       "907687      1\n",
       "307999      1\n",
       "146000      1\n",
       "Name: Price, Length: 2901, dtype: int64"
      ]
     },
     "execution_count": 11,
     "metadata": {},
     "output_type": "execute_result"
    }
   ],
   "source": [
    "Price= data['Price'].value_counts()\n",
    "Price"
   ]
  },
  {
   "cell_type": "code",
   "execution_count": 12,
   "id": "a7c1ca5b",
   "metadata": {
    "execution": {
     "iopub.execute_input": "2023-05-03T05:38:52.441483Z",
     "iopub.status.busy": "2023-05-03T05:38:52.440217Z",
     "iopub.status.idle": "2023-05-03T05:38:53.387530Z",
     "shell.execute_reply": "2023-05-03T05:38:53.385839Z"
    },
    "papermill": {
     "duration": 0.958889,
     "end_time": "2023-05-03T05:38:53.390650",
     "exception": false,
     "start_time": "2023-05-03T05:38:52.431761",
     "status": "completed"
    },
    "tags": []
   },
   "outputs": [
    {
     "data": {
      "text/plain": [
       "<AxesSubplot: xlabel='Price', ylabel='count'>"
      ]
     },
     "execution_count": 12,
     "metadata": {},
     "output_type": "execute_result"
    },
    {
     "data": {
      "image/png": "[encoded data removed]",
      "text/plain": [
       "<Figure size 2200x800 with 1 Axes>"
      ]
     },
     "metadata": {},
     "output_type": "display_data"
    }
   ],
   "source": [
    "plt.figure(figsize=(22,8))\n",
    "sns.countplot(x=Price)"
   ]
  },
  {
   "cell_type": "code",
   "execution_count": 13,
   "id": "580136eb",
   "metadata": {
    "execution": {
     "iopub.execute_input": "2023-05-03T05:38:53.409339Z",
     "iopub.status.busy": "2023-05-03T05:38:53.408852Z",
     "iopub.status.idle": "2023-05-03T05:38:53.418416Z",
     "shell.execute_reply": "2023-05-03T05:38:53.417517Z"
    },
    "papermill": {
     "duration": 0.022362,
     "end_time": "2023-05-03T05:38:53.420368",
     "exception": false,
     "start_time": "2023-05-03T05:38:53.398006",
     "status": "completed"
    },
    "tags": []
   },
   "outputs": [
    {
     "data": {
      "text/plain": [
       "3     6612\n",
       "4     4724\n",
       "2     1844\n",
       "5     1079\n",
       "6      176\n",
       "1      136\n",
       "7       30\n",
       "8       11\n",
       "9        3\n",
       "10       3\n",
       "33       1\n",
       "11       1\n",
       "Name: number of bedrooms, dtype: int64"
      ]
     },
     "execution_count": 13,
     "metadata": {},
     "output_type": "execute_result"
    }
   ],
   "source": [
    "number_of_bedrooms =data['number of bedrooms'].value_counts()\n",
    "number_of_bedrooms"
   ]
  },
  {
   "cell_type": "code",
   "execution_count": 14,
   "id": "778abb2c",
   "metadata": {
    "execution": {
     "iopub.execute_input": "2023-05-03T05:38:53.438220Z",
     "iopub.status.busy": "2023-05-03T05:38:53.437524Z",
     "iopub.status.idle": "2023-05-03T05:38:53.732858Z",
     "shell.execute_reply": "2023-05-03T05:38:53.731291Z"
    },
    "papermill": {
     "duration": 0.308985,
     "end_time": "2023-05-03T05:38:53.736958",
     "exception": false,
     "start_time": "2023-05-03T05:38:53.427973",
     "status": "completed"
    },
    "tags": []
   },
   "outputs": [
    {
     "data": {
      "text/plain": [
       "<AxesSubplot: xlabel='number of bedrooms', ylabel='count'>"
      ]
     },
     "execution_count": 14,
     "metadata": {},
     "output_type": "execute_result"
    },
    {
     "data": {
      "image/png": "[encoded data removed]",
      "text/plain": [
       "<Figure size 640x480 with 1 Axes>"
      ]
     },
     "metadata": {},
     "output_type": "display_data"
    }
   ],
   "source": [
    "sns.countplot(x=number_of_bedrooms)"
   ]
  }
 ],
 "metadata": {
  "kernelspec": {
   "display_name": "Python 3",
   "language": "python",
   "name": "python3"
  },
  "language_info": {
   "codemirror_mode": {
    "name": "ipython",
    "version": 3
   },
   "file_extension": ".py",
   "mimetype": "text/x-python",
   "name": "python",
   "nbconvert_exporter": "python",
   "pygments_lexer": "ipython3",
   "version": "3.10.10"
  },
  "papermill": {
   "default_parameters": {},
   "duration": 18.095293,
   "end_time": "2023-05-03T05:38:54.872300",
   "environment_variables": {},
   "exception": null,
   "input_path": "__notebook__.ipynb",
   "output_path": "__notebook__.ipynb",
   "parameters": {},
   "start_time": "2023-05-03T05:38:36.777007",
   "version": "2.4.0"
  }
 },
 "nbformat": 4,
 "nbformat_minor": 5
}
